{
 "cells": [
  {
   "cell_type": "code",
   "execution_count": 1,
   "metadata": {},
   "outputs": [],
   "source": [
    "from backend import *"
   ]
  },
  {
   "cell_type": "code",
   "execution_count": null,
   "metadata": {},
   "outputs": [],
   "source": [
    "H=hamiltonian()"
   ]
  },
  {
   "cell_type": "code",
   "execution_count": 2,
   "metadata": {},
   "outputs": [],
   "source": [
    "from scipy.linalg import eigh_tridiagonal\n",
    "from scipy.linalg import ishermitian\n",
    "import numpy as np\n",
    "class hamiltonian:\n",
    "    def __init__(self,array):\n",
    "        if ishermitian(array)==False:\n",
    "            raise ValueError(\"Hamiltonian is not hermitian\")\n",
    "        self.array=array\n",
    "        self.tridiagonal=self.is_tridiagonal()\n",
    "        if self.tridiagonal:\n",
    "            D=self.array.diagonal\n",
    "            off_D=self.array.diagonal(1)\n",
    "            self.E,self.V=eigh_tridiagonal(D,off_D)\n",
    "        else:\n",
    "            self.E,self.V=np.linalg.eigh(self.array)\n",
    "    def is_tridiagonal(self):\n",
    "        n=len(self.array)\n",
    "        for i in range(n):\n",
    "            for j in range(n):\n",
    "                if abs(i-j)>1 and self.array[i][j]!=0:\n",
    "                    return False\n",
    "        return True"
   ]
  },
  {
   "cell_type": "code",
   "execution_count": 7,
   "metadata": {},
   "outputs": [
    {
     "ename": "ValueError",
     "evalue": "Hamiltonian is not hermitian",
     "output_type": "error",
     "traceback": [
      "\u001b[0;31m---------------------------------------------------------------------------\u001b[0m",
      "\u001b[0;31mValueError\u001b[0m                                Traceback (most recent call last)",
      "Cell \u001b[0;32mIn[7], line 2\u001b[0m\n\u001b[1;32m      1\u001b[0m H\u001b[39m=\u001b[39mnp\u001b[39m.\u001b[39marray([[\u001b[39m1\u001b[39m,\u001b[39m2\u001b[39m,\u001b[39m23\u001b[39m],[\u001b[39m2\u001b[39m,\u001b[39m4\u001b[39m,\u001b[39m5\u001b[39m],[\u001b[39m3\u001b[39m,\u001b[39m5\u001b[39m,\u001b[39m6\u001b[39m]])\n\u001b[0;32m----> 2\u001b[0m H\u001b[39m=\u001b[39mhamiltonian(H)\n\u001b[1;32m      3\u001b[0m \u001b[39mprint\u001b[39m(H\u001b[39m.\u001b[39mE)\n",
      "Cell \u001b[0;32mIn[2], line 7\u001b[0m, in \u001b[0;36mhamiltonian.__init__\u001b[0;34m(self, array)\u001b[0m\n\u001b[1;32m      5\u001b[0m \u001b[39mdef\u001b[39;00m \u001b[39m__init__\u001b[39m(\u001b[39mself\u001b[39m,array):\n\u001b[1;32m      6\u001b[0m     \u001b[39mif\u001b[39;00m ishermitian(array)\u001b[39m==\u001b[39m\u001b[39mFalse\u001b[39;00m:\n\u001b[0;32m----> 7\u001b[0m         \u001b[39mraise\u001b[39;00m \u001b[39mValueError\u001b[39;00m(\u001b[39m\"\u001b[39m\u001b[39mHamiltonian is not hermitian\u001b[39m\u001b[39m\"\u001b[39m)\n\u001b[1;32m      8\u001b[0m     \u001b[39mself\u001b[39m\u001b[39m.\u001b[39marray\u001b[39m=\u001b[39marray\n\u001b[1;32m      9\u001b[0m     \u001b[39mself\u001b[39m\u001b[39m.\u001b[39mtridiagonal\u001b[39m=\u001b[39m\u001b[39mself\u001b[39m\u001b[39m.\u001b[39mis_tridiagonal()\n",
      "\u001b[0;31mValueError\u001b[0m: Hamiltonian is not hermitian"
     ]
    }
   ],
   "source": [
    "H=np.array([[1,2,23],[2,4,5],[3,5,6]])\n",
    "H=hamiltonian(H)\n",
    "print(H.E)"
   ]
  },
  {
   "attachments": {},
   "cell_type": "markdown",
   "metadata": {},
   "source": [
    "# Simulating the Return Problem"
   ]
  },
  {
   "cell_type": "code",
   "execution_count": 38,
   "metadata": {},
   "outputs": [],
   "source": [
    "from backend.classes import return_problem\n",
    "from backend.functions import first_detection_probability\n",
    "import numpy as np\n",
    "'''\n",
    "Create a Hamiltonian to study\n",
    "Force the Hamiltonian to be Hermitian\n",
    "'''\n",
    "#Create a Hamiltonian to study\n",
    "L=20\n",
    "N=10\n",
    "F_n=np.zeros(int(1e5))\n",
    "for i in range(N):\n",
    "    H=np.random.normal(0,1,(L,L))\n",
    "    H=H+H.T\n",
    "    psi_0=np.zeros(L)\n",
    "    psi_0[L//2]=1\n",
    "    model=return_problem(H,psi_0,N=1e5)\n",
    "    F_n+=first_detection_probability(model)/N"
   ]
  },
  {
   "cell_type": "code",
   "execution_count": 39,
   "metadata": {},
   "outputs": [
    {
     "name": "stdout",
     "output_type": "stream",
     "text": [
      "-2.3906195727458988 2.9252848742128807\n"
     ]
    },
    {
     "data": {
      "text/plain": [
       "[<matplotlib.lines.Line2D at 0x7f44e31f69d0>]"
      ]
     },
     "execution_count": 39,
     "metadata": {},
     "output_type": "execute_result"
    },
    {
     "data": {
      "image/png": "[encoded data removed]",
      "text/plain": [
       "<Figure size 640x480 with 1 Axes>"
      ]
     },
     "metadata": {},
     "output_type": "display_data"
    }
   ],
   "source": [
    "import matplotlib.pyplot as plt\n",
    "x=np.arange(1,len(F_n)+1,1)\n",
    "a,b=np.polyfit(np.log(x[1000:]),np.log(F_n[1000:]),1)\n",
    "print(a,b)\n",
    "plt.loglog(x,F_n)\n",
    "plt.loglog(x,x**a*np.exp(b))"
   ]
  },
  {
   "cell_type": "code",
   "execution_count": 28,
   "metadata": {},
   "outputs": [
    {
     "data": {
      "text/plain": [
       "'0.57.0'"
      ]
     },
     "execution_count": 28,
     "metadata": {},
     "output_type": "execute_result"
    }
   ],
   "source": [
    "import numba\n",
    "numba.__version__"
   ]
  },
  {
   "cell_type": "code",
   "execution_count": 4,
   "metadata": {},
   "outputs": [],
   "source": [
    "import numpy as np\n",
    "L=10\n",
    "H1=np.random.normal(0,1,(L,L))\n",
    "H2=np.random.normal(0,1,(L,L))\n",
    "H3=np.random.normal(0,1,(L,L))\n",
    "H_list=[H1,H2,H3]\n",
    "for i in range(3):\n",
    "    H_list[i-1]=H_list[i-1]+H_list[i-1].T"
   ]
  },
  {
   "cell_type": "code",
   "execution_count": 20,
   "metadata": {},
   "outputs": [],
   "source": [
    "from backend.classes import return_problem\n",
    "from numba import jit\n",
    "class multiple_return_problems:\n",
    "    '''\n",
    "    This is suited for the case we study disordered systems and need to perform an average over many realizations of the disorder. Or interested in comparing multiple Hamiltonians at the same time\n",
    "    '''\n",
    "    def __init__(self,H_list,psi_0,tau=None,N=1e4):\n",
    "        '''\n",
    "        H_list: list of Hamiltonians\n",
    "        psi_0: initial state\n",
    "        tau: time step\n",
    "        N: number of steps\n",
    "        '''\n",
    "        self.n=len(H_list)\n",
    "        self.models=[None]*self.n\n",
    "        for i in range(self.n):\n",
    "            self.models[i]=return_problem(H_list[i],psi_0,tau,N)"
   ]
  },
  {
   "cell_type": "code",
   "execution_count": 22,
   "metadata": {},
   "outputs": [
    {
     "ename": "TypingError",
     "evalue": "Failed in nopython mode pipeline (step: nopython frontend)\nUntyped global name 'return_problem': Cannot determine Numba type of <class 'type'>\n\nFile \"../../../../tmp/ipykernel_72695/312554735.py\", line 18:\n<source missing, REPL/exec in use?> \n\nThis error may have been caused by the following argument(s):\n- argument 0: Cannot determine Numba type of <class '__main__.multiple_return_problems'> \n\nThis error may have been caused by the following argument(s):\n- argument 0: Cannot determine Numba type of <class '__main__.multiple_return_problems'>\n",
     "output_type": "error",
     "traceback": [
      "\u001b[0;31m---------------------------------------------------------------------------\u001b[0m",
      "\u001b[0;31mTypingError\u001b[0m                               Traceback (most recent call last)",
      "Cell \u001b[0;32mIn[22], line 3\u001b[0m\n\u001b[1;32m      1\u001b[0m psi_0\u001b[39m=\u001b[39mnp\u001b[39m.\u001b[39mzeros(L)\n\u001b[1;32m      2\u001b[0m psi_0[L\u001b[39m/\u001b[39m\u001b[39m/\u001b[39m\u001b[39m2\u001b[39m]\u001b[39m=\u001b[39m\u001b[39m1\u001b[39m\n\u001b[0;32m----> 3\u001b[0m model\u001b[39m=\u001b[39mmultiple_return_problems(H_list,psi_0)\n",
      "File \u001b[0;32m~/anaconda3/envs/science/lib/python3.11/site-packages/numba/core/dispatcher.py:468\u001b[0m, in \u001b[0;36m_DispatcherBase._compile_for_args\u001b[0;34m(self, *args, **kws)\u001b[0m\n\u001b[1;32m    464\u001b[0m         msg \u001b[39m=\u001b[39m (\u001b[39mf\u001b[39m\u001b[39m\"\u001b[39m\u001b[39m{\u001b[39;00m\u001b[39mstr\u001b[39m(e)\u001b[39m.\u001b[39mrstrip()\u001b[39m}\u001b[39;00m\u001b[39m \u001b[39m\u001b[39m\\n\u001b[39;00m\u001b[39m\\n\u001b[39;00m\u001b[39mThis error may have been caused \u001b[39m\u001b[39m\"\u001b[39m\n\u001b[1;32m    465\u001b[0m                \u001b[39mf\u001b[39m\u001b[39m\"\u001b[39m\u001b[39mby the following argument(s):\u001b[39m\u001b[39m\\n\u001b[39;00m\u001b[39m{\u001b[39;00margs_str\u001b[39m}\u001b[39;00m\u001b[39m\\n\u001b[39;00m\u001b[39m\"\u001b[39m)\n\u001b[1;32m    466\u001b[0m         e\u001b[39m.\u001b[39mpatch_message(msg)\n\u001b[0;32m--> 468\u001b[0m     error_rewrite(e, \u001b[39m'\u001b[39;49m\u001b[39mtyping\u001b[39;49m\u001b[39m'\u001b[39;49m)\n\u001b[1;32m    469\u001b[0m \u001b[39mexcept\u001b[39;00m errors\u001b[39m.\u001b[39mUnsupportedError \u001b[39mas\u001b[39;00m e:\n\u001b[1;32m    470\u001b[0m     \u001b[39m# Something unsupported is present in the user code, add help info\u001b[39;00m\n\u001b[1;32m    471\u001b[0m     error_rewrite(e, \u001b[39m'\u001b[39m\u001b[39munsupported_error\u001b[39m\u001b[39m'\u001b[39m)\n",
      "File \u001b[0;32m~/anaconda3/envs/science/lib/python3.11/site-packages/numba/core/dispatcher.py:409\u001b[0m, in \u001b[0;36m_DispatcherBase._compile_for_args.<locals>.error_rewrite\u001b[0;34m(e, issue_type)\u001b[0m\n\u001b[1;32m    407\u001b[0m     \u001b[39mraise\u001b[39;00m e\n\u001b[1;32m    408\u001b[0m \u001b[39melse\u001b[39;00m:\n\u001b[0;32m--> 409\u001b[0m     \u001b[39mraise\u001b[39;00m e\u001b[39m.\u001b[39mwith_traceback(\u001b[39mNone\u001b[39;00m)\n",
      "\u001b[0;31mTypingError\u001b[0m: Failed in nopython mode pipeline (step: nopython frontend)\nUntyped global name 'return_problem': Cannot determine Numba type of <class 'type'>\n\nFile \"../../../../tmp/ipykernel_72695/312554735.py\", line 18:\n<source missing, REPL/exec in use?> \n\nThis error may have been caused by the following argument(s):\n- argument 0: Cannot determine Numba type of <class '__main__.multiple_return_problems'> \n\nThis error may have been caused by the following argument(s):\n- argument 0: Cannot determine Numba type of <class '__main__.multiple_return_problems'>\n"
     ]
    }
   ],
   "source": [
    "psi_0=np.zeros(L)\n",
    "psi_0[L//2]=1\n",
    "model=multiple_return_problems(H_list,psi_0)\n"
   ]
  }
 ],
 "metadata": {
  "kernelspec": {
   "display_name": "science",
   "language": "python",
   "name": "python3"
  },
  "language_info": {
   "codemirror_mode": {
    "name": "ipython",
    "version": 3
   },
   "file_extension": ".py",
   "mimetype": "text/x-python",
   "name": "python",
   "nbconvert_exporter": "python",
   "pygments_lexer": "ipython3",
   "version": "3.11.3"
  },
  "orig_nbformat": 4
 },
 "nbformat": 4,
 "nbformat_minor": 2
}
